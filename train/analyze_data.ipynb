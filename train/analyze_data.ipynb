{
 "cells": [
  {
   "cell_type": "code",
   "execution_count": 46,
   "metadata": {},
   "outputs": [],
   "source": [
    "import pandas as pd\n",
    "import numpy as np\n",
    "from competition.data_gen_costs import *\n",
    "from competition.test_case import TestCase\n",
    "from competition.data_collection_ctrls import Controller, yaw_rot, INITIAL_GATE_EXIT\n",
    "import tqdm"
   ]
  },
  {
   "cell_type": "code",
   "execution_count": 47,
   "metadata": {},
   "outputs": [],
   "source": [
    "\n",
    "df = pd.read_csv('data.csv')"
   ]
  },
  {
   "cell_type": "code",
   "execution_count": 48,
   "metadata": {},
   "outputs": [
    {
     "name": "stderr",
     "output_type": "stream",
     "text": [
      "/var/folders/q3/0mld71gj36v0xnwbht7h83l00000gn/T/ipykernel_26119/2966962893.py:2: SettingWithCopyWarning: \n",
      "A value is trying to be set on a copy of a slice from a DataFrame\n",
      "\n",
      "See the caveats in the documentation: https://pandas.pydata.org/pandas-docs/stable/user_guide/indexing.html#returning-a-view-versus-a-copy\n",
      "  subset.loc[subset['best_v'] > 1.5, 'best_v'] = 4/3\n"
     ]
    }
   ],
   "source": [
    "subset = df[df[\"v0\"] < 1.5]\n",
    "subset.loc[subset['best_v'] > 1.5, 'best_v'] = 4/3"
   ]
  },
  {
   "cell_type": "code",
   "execution_count": 49,
   "metadata": {},
   "outputs": [
    {
     "name": "stderr",
     "output_type": "stream",
     "text": [
      "  7%|▋         | 9039/129600 [00:05<01:16, 1582.13it/s]\n"
     ]
    },
    {
     "ename": "KeyboardInterrupt",
     "evalue": "",
     "output_type": "error",
     "traceback": [
      "\u001b[0;31m---------------------------------------------------------------------------\u001b[0m",
      "\u001b[0;31mKeyboardInterrupt\u001b[0m                         Traceback (most recent call last)",
      "Cell \u001b[0;32mIn[49], line 25\u001b[0m\n\u001b[1;32m     23\u001b[0m ctrl \u001b[38;5;241m=\u001b[39m Controller(\u001b[38;5;28;01mNone\u001b[39;00m, initial_info)\n\u001b[1;32m     24\u001b[0m tc \u001b[38;5;241m=\u001b[39m TestCase(row[\u001b[38;5;124m\"\u001b[39m\u001b[38;5;124mz0\u001b[39m\u001b[38;5;124m\"\u001b[39m], row[\u001b[38;5;124m\"\u001b[39m\u001b[38;5;124mv0\u001b[39m\u001b[38;5;124m\"\u001b[39m], row[\u001b[38;5;124m\"\u001b[39m\u001b[38;5;124md1\u001b[39m\u001b[38;5;124m\"\u001b[39m], row[\u001b[38;5;124m\"\u001b[39m\u001b[38;5;124mtheta1\u001b[39m\u001b[38;5;124m\"\u001b[39m], row[\u001b[38;5;124m\"\u001b[39m\u001b[38;5;124mz1\u001b[39m\u001b[38;5;124m\"\u001b[39m], row[\u001b[38;5;124m\"\u001b[39m\u001b[38;5;124md2\u001b[39m\u001b[38;5;124m\"\u001b[39m], row[\u001b[38;5;124m\"\u001b[39m\u001b[38;5;124mtheta2\u001b[39m\u001b[38;5;124m\"\u001b[39m], row[\u001b[38;5;124m\"\u001b[39m\u001b[38;5;124mz2\u001b[39m\u001b[38;5;124m\"\u001b[39m])\n\u001b[0;32m---> 25\u001b[0m \u001b[43mctrl\u001b[49m\u001b[38;5;241;43m.\u001b[39;49m\u001b[43mbuild_traj\u001b[49m\u001b[43m(\u001b[49m\u001b[43mtc\u001b[49m\u001b[43m,\u001b[49m\u001b[43m \u001b[49m\u001b[43mrow\u001b[49m\u001b[43m[\u001b[49m\u001b[38;5;124;43m\"\u001b[39;49m\u001b[38;5;124;43mbest_v\u001b[39;49m\u001b[38;5;124;43m\"\u001b[39;49m\u001b[43m]\u001b[49m\u001b[43m,\u001b[49m\u001b[43m \u001b[49m\u001b[43mrow\u001b[49m\u001b[43m[\u001b[49m\u001b[38;5;124;43m\"\u001b[39;49m\u001b[38;5;124;43mbest_t\u001b[39;49m\u001b[38;5;124;43m\"\u001b[39;49m\u001b[43m]\u001b[49m\u001b[43m)\u001b[49m\n\u001b[1;32m     26\u001b[0m \u001b[38;5;28;01mif\u001b[39;00m np\u001b[38;5;241m.\u001b[39mmax(ctrl\u001b[38;5;241m.\u001b[39mref_acc) \u001b[38;5;241m>\u001b[39m \u001b[38;5;241m5\u001b[39m:\n\u001b[1;32m     27\u001b[0m   failed\u001b[38;5;241m.\u001b[39mappend(i)\n",
      "File \u001b[0;32m~/amr/safe-control-gym/competition/data_collection_ctrls.py:209\u001b[0m, in \u001b[0;36mController.build_traj\u001b[0;34m(self, test_case, v, t, gui, print_accel_limits)\u001b[0m\n\u001b[1;32m    207\u001b[0m     t \u001b[38;5;241m=\u001b[39m np\u001b[38;5;241m.\u001b[39mlinspace(\u001b[38;5;241m0\u001b[39m, b_f[\u001b[38;5;241m0\u001b[39m], \u001b[38;5;28mint\u001b[39m(b_f[\u001b[38;5;241m0\u001b[39m] \u001b[38;5;241m*\u001b[39m \u001b[38;5;28mself\u001b[39m\u001b[38;5;241m.\u001b[39mCTRL_FREQ))\n\u001b[1;32m    208\u001b[0m     \u001b[38;5;28mself\u001b[39m\u001b[38;5;241m.\u001b[39mref_pos[xyz] \u001b[38;5;241m=\u001b[39m np\u001b[38;5;241m.\u001b[39mappend(\u001b[38;5;28mself\u001b[39m\u001b[38;5;241m.\u001b[39mref_pos[xyz], np\u001b[38;5;241m.\u001b[39mpolyval(coeff, t))\n\u001b[0;32m--> 209\u001b[0m     \u001b[38;5;28mself\u001b[39m\u001b[38;5;241m.\u001b[39mref_vel[xyz] \u001b[38;5;241m=\u001b[39m np\u001b[38;5;241m.\u001b[39mappend(\u001b[38;5;28mself\u001b[39m\u001b[38;5;241m.\u001b[39mref_vel[xyz], \u001b[43mnp\u001b[49m\u001b[38;5;241;43m.\u001b[39;49m\u001b[43mpolyval\u001b[49m\u001b[43m(\u001b[49m\u001b[43mnp\u001b[49m\u001b[38;5;241;43m.\u001b[39;49m\u001b[43mpolyder\u001b[49m\u001b[43m(\u001b[49m\u001b[43mcoeff\u001b[49m\u001b[43m,\u001b[49m\u001b[43m \u001b[49m\u001b[38;5;241;43m1\u001b[39;49m\u001b[43m)\u001b[49m\u001b[43m,\u001b[49m\u001b[43m \u001b[49m\u001b[43mt\u001b[49m\u001b[43m)\u001b[49m)\n\u001b[1;32m    210\u001b[0m     \u001b[38;5;28mself\u001b[39m\u001b[38;5;241m.\u001b[39mref_acc[xyz] \u001b[38;5;241m=\u001b[39m np\u001b[38;5;241m.\u001b[39mappend(\u001b[38;5;28mself\u001b[39m\u001b[38;5;241m.\u001b[39mref_acc[xyz], np\u001b[38;5;241m.\u001b[39mpolyval(np\u001b[38;5;241m.\u001b[39mpolyder(coeff, \u001b[38;5;241m2\u001b[39m), t))\n\u001b[1;32m    211\u001b[0m total_steps \u001b[38;5;241m=\u001b[39m \u001b[38;5;28mint\u001b[39m(b_f[\u001b[38;5;241m0\u001b[39m] \u001b[38;5;241m*\u001b[39m \u001b[38;5;28mself\u001b[39m\u001b[38;5;241m.\u001b[39mCTRL_FREQ)\n",
      "File \u001b[0;32m~/miniconda3/envs/safe/lib/python3.10/site-packages/numpy/lib/polynomial.py:778\u001b[0m, in \u001b[0;36mpolyval\u001b[0;34m(p, x)\u001b[0m\n\u001b[1;32m    776\u001b[0m \u001b[38;5;28;01melse\u001b[39;00m:\n\u001b[1;32m    777\u001b[0m     x \u001b[38;5;241m=\u001b[39m NX\u001b[38;5;241m.\u001b[39masanyarray(x)\n\u001b[0;32m--> 778\u001b[0m     y \u001b[38;5;241m=\u001b[39m \u001b[43mNX\u001b[49m\u001b[38;5;241;43m.\u001b[39;49m\u001b[43mzeros_like\u001b[49m\u001b[43m(\u001b[49m\u001b[43mx\u001b[49m\u001b[43m)\u001b[49m\n\u001b[1;32m    779\u001b[0m \u001b[38;5;28;01mfor\u001b[39;00m pv \u001b[38;5;129;01min\u001b[39;00m p:\n\u001b[1;32m    780\u001b[0m     y \u001b[38;5;241m=\u001b[39m y \u001b[38;5;241m*\u001b[39m x \u001b[38;5;241m+\u001b[39m pv\n",
      "File \u001b[0;32m~/miniconda3/envs/safe/lib/python3.10/site-packages/numpy/core/numeric.py:132\u001b[0m, in \u001b[0;36mzeros_like\u001b[0;34m(a, dtype, order, subok, shape)\u001b[0m\n\u001b[1;32m    130\u001b[0m \u001b[38;5;66;03m# needed instead of a 0 to get same result as zeros for string dtypes\u001b[39;00m\n\u001b[1;32m    131\u001b[0m z \u001b[38;5;241m=\u001b[39m zeros(\u001b[38;5;241m1\u001b[39m, dtype\u001b[38;5;241m=\u001b[39mres\u001b[38;5;241m.\u001b[39mdtype)\n\u001b[0;32m--> 132\u001b[0m \u001b[43mmultiarray\u001b[49m\u001b[38;5;241;43m.\u001b[39;49m\u001b[43mcopyto\u001b[49m\u001b[43m(\u001b[49m\u001b[43mres\u001b[49m\u001b[43m,\u001b[49m\u001b[43m \u001b[49m\u001b[43mz\u001b[49m\u001b[43m,\u001b[49m\u001b[43m \u001b[49m\u001b[43mcasting\u001b[49m\u001b[38;5;241;43m=\u001b[39;49m\u001b[38;5;124;43m'\u001b[39;49m\u001b[38;5;124;43munsafe\u001b[39;49m\u001b[38;5;124;43m'\u001b[39;49m\u001b[43m)\u001b[49m\n\u001b[1;32m    133\u001b[0m \u001b[38;5;28;01mreturn\u001b[39;00m res\n",
      "\u001b[0;31mKeyboardInterrupt\u001b[0m: "
     ]
    }
   ],
   "source": [
    "failed = []\n",
    "for i, row in tqdm.tqdm(df.iterrows(), total=len(df)):\n",
    "  g2 = np.arctan2(np.sin(row[\"theta1\"] + row[\"theta2\"]), np.cos(row[\"theta1\"] + row[\"theta2\"]))\n",
    "  \n",
    "  # add gates to the map convert local frame data in test_case to global frame\n",
    "  second_gate_pos = np.array([0, 0, row[\"z0\"]]) + row[\"d1\"] * (yaw_rot(0) @ INITIAL_GATE_EXIT)\n",
    "  second_gate_pos[2] = row[\"z1\"]\n",
    "  third_gate_pos = second_gate_pos + row[\"d2\"] * (yaw_rot(row[\"theta1\"]) @ INITIAL_GATE_EXIT)\n",
    "  third_gate_pos[2] = row[\"z2\"]\n",
    "  \n",
    "  initial_info = {\n",
    "    \"ctrl_timestep\": 30,\n",
    "    \"ctrl_freq\": 30,\n",
    "    \"nominal_gates_pos_and_type\": [\n",
    "      [0, 0, 0, 0, 0, 0, 1 if row[\"z0\"] == 0.3 else 0],\n",
    "      [second_gate_pos[0], second_gate_pos[1], 0, 0, 0, row[\"theta1\"], 1 if row[\"z1\"] == 0.3 else 0],\n",
    "      [third_gate_pos[0], third_gate_pos[1], 0, 0, 0, g2, 1 if row[\"z2\"] == 0.3 else 0]\n",
    "    ],\n",
    "    \"nominal_obstacles_pos\": [],\n",
    "    \"quadrotor_kf\": 0\n",
    "  }\n",
    "\n",
    "  ctrl = Controller(None, initial_info)\n",
    "  tc = TestCase(row[\"z0\"], row[\"v0\"], row[\"d1\"], row[\"theta1\"], row[\"z1\"], row[\"d2\"], row[\"theta2\"], row[\"z2\"])\n",
    "  ctrl.build_traj(tc, row[\"best_v\"], row[\"best_t\"])\n",
    "  if np.max(ctrl.ref_acc) > 5:\n",
    "    failed.append(i)"
   ]
  },
  {
   "cell_type": "code",
   "execution_count": null,
   "metadata": {},
   "outputs": [
    {
     "data": {
      "image/png": "[encoded data removed]",
      "text/plain": [
       "<Figure size 640x480 with 1 Axes>"
      ]
     },
     "metadata": {},
     "output_type": "display_data"
    }
   ],
   "source": [
    "import matplotlib.pyplot as plt\n",
    "\n",
    "# Select the \"v0\" values for the failed rows\n",
    "v0_failed = df.iloc[failed][\"v0\"]\n",
    "\n",
    "# Create a boxplot\n",
    "plt.boxplot(v0_failed)\n",
    "\n",
    "# Add labels and title\n",
    "plt.xlabel(\"v0 values (failed rows)\")\n",
    "plt.ylabel(\"Value\")\n",
    "plt.title(\"Boxplot of v0 values (failed rows)\")\n",
    "\n",
    "# Display the plot\n",
    "plt.show()"
   ]
  },
  {
   "cell_type": "code",
   "execution_count": null,
   "metadata": {},
   "outputs": [
    {
     "name": "stdout",
     "output_type": "stream",
     "text": [
      "v0        1.555556\n",
      "z0        0.300000\n",
      "d1        0.800000\n",
      "theta1   -0.785398\n",
      "z1        0.300000\n",
      "d2        0.800000\n",
      "theta2   -0.785398\n",
      "z2        0.300000\n",
      "best_v    1.333333\n",
      "best_t    3.000000\n",
      "Name: 90720, dtype: float64\n",
      "2.8288330879823236\n"
     ]
    }
   ],
   "source": [
    "row = df.iloc[failed[0]]\n",
    "print(row)\n",
    "row[\"best_t\"] = 2.0\n",
    "g2 = np.arctan2(np.sin(row[\"theta1\"] + row[\"theta2\"]), np.cos(row[\"theta1\"] + row[\"theta2\"]))\n",
    "  \n",
    "# add gates to the map convert local frame data in test_case to global frame\n",
    "second_gate_pos = np.array([0, 0, row[\"z0\"]]) + row[\"d1\"] * (yaw_rot(0) @ INITIAL_GATE_EXIT)\n",
    "second_gate_pos[2] = row[\"z1\"]\n",
    "third_gate_pos = second_gate_pos + row[\"d2\"] * (yaw_rot(row[\"theta1\"]) @ INITIAL_GATE_EXIT)\n",
    "third_gate_pos[2] = row[\"z2\"]\n",
    "\n",
    "initial_info = {\n",
    "  \"ctrl_timestep\": 30,\n",
    "  \"ctrl_freq\": 30,\n",
    "  \"nominal_gates_pos_and_type\": [\n",
    "    [0, 0, 0, 0, 0, 0, 1 if row[\"z0\"] == 0.3 else 0],\n",
    "    [second_gate_pos[0], second_gate_pos[1], 0, 0, 0, row[\"theta1\"], 1 if row[\"z1\"] == 0.3 else 0],\n",
    "    [third_gate_pos[0], third_gate_pos[1], 0, 0, 0, g2, 1 if row[\"z2\"] == 0.3 else 0]\n",
    "  ],\n",
    "  \"nominal_obstacles_pos\": [],\n",
    "  \"quadrotor_kf\": 0\n",
    "}\n",
    "\n",
    "ctrl = Controller(None, initial_info)\n",
    "tc = TestCase(row[\"z0\"], row[\"v0\"], row[\"d1\"], row[\"theta1\"], row[\"z1\"], row[\"d2\"], row[\"theta2\"], row[\"z2\"])\n",
    "ctrl.build_traj(tc, row[\"best_v\"], row[\"best_t\"])\n",
    "\n",
    "print(np.max(ctrl.ref_acc))"
   ]
  },
  {
   "cell_type": "code",
   "execution_count": null,
   "metadata": {},
   "outputs": [
    {
     "name": "stdout",
     "output_type": "stream",
     "text": [
      "0\n"
     ]
    }
   ],
   "source": [
    "print(len(failed))"
   ]
  },
  {
   "cell_type": "code",
   "execution_count": 50,
   "metadata": {},
   "outputs": [
    {
     "name": "stdout",
     "output_type": "stream",
     "text": [
      "1.5555555555555554\n",
      "2.25\n",
      "v0        0.000000\n",
      "z0        0.300000\n",
      "d1        1.500000\n",
      "theta1   -0.112200\n",
      "z1        0.300000\n",
      "d2        1.360000\n",
      "theta2   -0.785398\n",
      "z2        0.300000\n",
      "best_v    1.555556\n",
      "best_t    1.735714\n",
      "Name: 5856, dtype: float64\n"
     ]
    }
   ],
   "source": [
    "print(df[\"best_v\"].max())\n",
    "print(df[\"best_t\"].max())\n",
    "\n",
    "row = df.iloc[df[\"best_v\"].idxmax()]\n",
    "print(row)"
   ]
  }
 ],
 "metadata": {
  "kernelspec": {
   "display_name": "safe",
   "language": "python",
   "name": "python3"
  },
  "language_info": {
   "codemirror_mode": {
    "name": "ipython",
    "version": 3
   },
   "file_extension": ".py",
   "mimetype": "text/x-python",
   "name": "python",
   "nbconvert_exporter": "python",
   "pygments_lexer": "ipython3",
   "version": "3.10.13"
  }
 },
 "nbformat": 4,
 "nbformat_minor": 2
}
